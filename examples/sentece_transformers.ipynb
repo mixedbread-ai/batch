{
 "cells": [
  {
   "cell_type": "markdown",
   "metadata": {
    "collapsed": false
   },
   "source": [
    "## General batching"
   ]
  },
  {
   "cell_type": "markdown",
   "metadata": {
    "collapsed": false
   },
   "source": [
    "### Sentence Transformers"
   ]
  },
  {
   "cell_type": "code",
   "execution_count": 9,
   "metadata": {
    "ExecuteTime": {
     "end_time": "2024-08-21T22:31:34.061331Z",
     "start_time": "2024-08-21T22:31:31.045823Z"
    }
   },
   "outputs": [
    {
     "data": {
      "text/plain": "array([ 0.3059689 ,  0.79072964,  0.00980721, ...,  0.0644002 ,\n       -0.45898244, -0.01831866], dtype=float32)"
     },
     "execution_count": 9,
     "metadata": {},
     "output_type": "execute_result"
    }
   ],
   "source": [
    "from sentence_transformers import SentenceTransformer\n",
    "from concurrent.futures import ThreadPoolExecutor\n",
    "# Load your model\n",
    "model = SentenceTransformer(\"mixedbread-ai/mxbai-embed-large-v1\")\n",
    "model.encode(\"Hello, world!\")"
   ]
  },
  {
   "cell_type": "code",
   "execution_count": 10,
   "metadata": {
    "ExecuteTime": {
     "end_time": "2024-08-21T22:31:35.222637Z",
     "start_time": "2024-08-21T22:31:35.218423Z"
    }
   },
   "outputs": [],
   "source": [
    "def simple_encode(text: list[str]):\n",
    "    return model.encode(text)"
   ]
  },
  {
   "cell_type": "code",
   "execution_count": 11,
   "metadata": {
    "collapsed": false,
    "ExecuteTime": {
     "end_time": "2024-08-21T22:32:02.722081Z",
     "start_time": "2024-08-21T22:31:36.011677Z"
    }
   },
   "outputs": [
    {
     "name": "stdout",
     "output_type": "stream",
     "text": [
      "Execution time: 26.71 seconds\n"
     ]
    }
   ],
   "source": [
    "import timeit\n",
    "\n",
    "def run_benchmark():\n",
    "    with ThreadPoolExecutor(max_workers=128) as executor:\n",
    "        list(executor.map(simple_encode, [[\"Hello, world!\"] for _ in range(1000)]))\n",
    "\n",
    "# Run the benchmark\n",
    "execution_time = timeit.timeit(run_benchmark, number=1)\n",
    "print(f\"Execution time: {execution_time:.2f} seconds\")"
   ]
  },
  {
   "cell_type": "code",
   "execution_count": 12,
   "metadata": {
    "collapsed": false,
    "ExecuteTime": {
     "end_time": "2024-08-21T22:32:28.560176Z",
     "start_time": "2024-08-21T22:32:26.709862Z"
    }
   },
   "outputs": [
    {
     "name": "stdout",
     "output_type": "stream",
     "text": [
      "Execution time: 1.85 seconds\n"
     ]
    }
   ],
   "source": [
    "import batch\n",
    "import timeit\n",
    "\n",
    "dynamic_encode = batch.dynamically(simple_encode)\n",
    "\n",
    "def run_benchmark():\n",
    "    with ThreadPoolExecutor(max_workers=128) as executor:\n",
    "        list(executor.map(dynamic_encode, [[\"Hello, world!\"] for _ in range(1000)]))\n",
    "\n",
    "\n",
    "# Run the benchmark\n",
    "execution_time = timeit.timeit(run_benchmark, number=1)\n",
    "print(f\"Execution time: {execution_time:.2f} seconds\")"
   ]
  },
  {
   "cell_type": "markdown",
   "metadata": {
    "collapsed": false
   },
   "source": [
    "### Ofen"
   ]
  },
  {
   "cell_type": "code",
   "execution_count": 13,
   "metadata": {
    "collapsed": false,
    "ExecuteTime": {
     "end_time": "2024-08-21T22:32:34.657849Z",
     "start_time": "2024-08-21T22:32:31.748225Z"
    }
   },
   "outputs": [
    {
     "name": "stderr",
     "output_type": "stream",
     "text": [
      "/opt/homebrew/anaconda3/lib/python3.11/site-packages/ofen/models/torch/text_encoder.py:144: UserWarning: Pooling strategy is set to NONE. This may result in unexpected behavior as the output will be the full sequence of hidden states rather than a single vector per input. Consider using a different pooling strategy such as mean, max, or cls if you need a fixed-size representation.\n",
      "  warnings.warn(\n"
     ]
    },
    {
     "data": {
      "text/plain": "EncodingResult(embeddings=array([[[ 0.01729077,  0.04468535,  0.00055422, ...,  0.00363935,\n         -0.0259378 , -0.00103522],\n        [-0.00385489,  0.02841953,  0.0072808 , ..., -0.00641318,\n         -0.00887358,  0.0145831 ],\n        [ 0.02255955,  0.03204089,  0.01209312, ...,  0.00168586,\n         -0.03093472,  0.01115614],\n        [-0.01648994,  0.0239604 , -0.01059136, ..., -0.01044504,\n         -0.04768613,  0.02494775],\n        [ 0.00466856,  0.04424845,  0.00212991, ...,  0.01685553,\n         -0.01741113,  0.01215234],\n        [ 0.00623544,  0.03078754,  0.00834455, ...,  0.00311966,\n         -0.0418628 , -0.02152618]]], dtype=float32), total_tokens=6)"
     },
     "execution_count": 13,
     "metadata": {},
     "output_type": "execute_result"
    }
   ],
   "source": [
    "from ofen.models import TextEncoder\n",
    "\n",
    "text_encoder = TextEncoder(\"mixedbread-ai/mxbai-embed-large-v1\")\n",
    "text_encoder.encode(\"Hello, world!\")"
   ]
  },
  {
   "cell_type": "code",
   "execution_count": 14,
   "metadata": {
    "collapsed": false,
    "ExecuteTime": {
     "end_time": "2024-08-21T22:32:59.264026Z",
     "start_time": "2024-08-21T22:32:36.125984Z"
    }
   },
   "outputs": [
    {
     "name": "stdout",
     "output_type": "stream",
     "text": [
      "Execution time: 23.13 seconds\n"
     ]
    }
   ],
   "source": [
    "def simple_encode(text: list[str]):\n",
    "    return text_encoder.encode(text).embeddings\n",
    "\n",
    "def run_benchmark():\n",
    "    with ThreadPoolExecutor(max_workers=128) as executor:\n",
    "        list(executor.map(simple_encode, [[\"Hello, world!\"] for _ in range(1000)]))\n",
    "\n",
    "\n",
    "# Run the benchmark\n",
    "execution_time = timeit.timeit(run_benchmark, number=1)\n",
    "print(f\"Execution time: {execution_time:.2f} seconds\")"
   ]
  },
  {
   "cell_type": "code",
   "execution_count": 15,
   "metadata": {
    "collapsed": false,
    "ExecuteTime": {
     "end_time": "2024-08-21T22:33:03.068791Z",
     "start_time": "2024-08-21T22:33:01.249164Z"
    }
   },
   "outputs": [
    {
     "name": "stdout",
     "output_type": "stream",
     "text": [
      "Execution time: 1.82 seconds\n"
     ]
    }
   ],
   "source": [
    "import batch\n",
    "import timeit\n",
    "\n",
    "dynamic_encode = batch.dynamically(simple_encode)\n",
    "\n",
    "def run_benchmark():\n",
    "    with ThreadPoolExecutor(max_workers=128) as executor:\n",
    "        list(executor.map(dynamic_encode, [[\"Hello, world!\"] for _ in range(1000)]))\n",
    "\n",
    "# Run the benchmark\n",
    "execution_time = timeit.timeit(run_benchmark, number=1)\n",
    "print(f\"Execution time: {execution_time:.2f} seconds\")"
   ]
  },
  {
   "cell_type": "markdown",
   "metadata": {
    "collapsed": false
   },
   "source": [
    "## Inference batching"
   ]
  },
  {
   "cell_type": "code",
   "execution_count": 16,
   "metadata": {
    "collapsed": false,
    "ExecuteTime": {
     "end_time": "2024-08-21T22:33:07.971337Z",
     "start_time": "2024-08-21T22:33:05.230409Z"
    }
   },
   "outputs": [
    {
     "data": {
      "text/plain": "EncodingResult(embeddings=array([[[ 0.01729077,  0.04468535,  0.00055422, ...,  0.00363935,\n         -0.0259378 , -0.00103522],\n        [-0.00385489,  0.02841953,  0.0072808 , ..., -0.00641318,\n         -0.00887358,  0.0145831 ],\n        [ 0.02255955,  0.03204089,  0.01209312, ...,  0.00168586,\n         -0.03093472,  0.01115614],\n        [-0.01648994,  0.0239604 , -0.01059136, ..., -0.01044504,\n         -0.04768613,  0.02494775],\n        [ 0.00466856,  0.04424845,  0.00212991, ...,  0.01685553,\n         -0.01741113,  0.01215234],\n        [ 0.00623544,  0.03078754,  0.00834455, ...,  0.00311966,\n         -0.0418628 , -0.02152618]]], dtype=float32), total_tokens=6)"
     },
     "execution_count": 16,
     "metadata": {},
     "output_type": "execute_result"
    }
   ],
   "source": [
    "from ofen.models import TextEncoder\n",
    "\n",
    "text_encoder = TextEncoder(\"mixedbread-ai/mxbai-embed-large-v1\")\n",
    "text_encoder.encode(\"Hello, world!\")"
   ]
  },
  {
   "cell_type": "code",
   "execution_count": 17,
   "metadata": {
    "ExecuteTime": {
     "end_time": "2024-08-21T22:33:14.402279Z",
     "start_time": "2024-08-21T22:33:12.126865Z"
    }
   },
   "outputs": [
    {
     "name": "stdout",
     "output_type": "stream",
     "text": [
      "Execution time: 2.18 seconds\n"
     ]
    }
   ],
   "source": [
    "from batch import inference\n",
    "from concurrent.futures import ThreadPoolExecutor\n",
    "import timeit\n",
    "\n",
    "simple_forward = text_encoder.forward\n",
    "\n",
    "dynamic_forward = inference.dynamically(lambda features: simple_forward(**features)[\"embeddings\"])\n",
    "text_encoder.forward = lambda **features: {\"embeddings\": dynamic_forward(features)}\n",
    "\n",
    "def run_benchmark():\n",
    "    with ThreadPoolExecutor(max_workers=128) as executor:\n",
    "        list(executor.map(text_encoder.encode, [[\"Hello, world!\"] for _ in range(1000)]))\n",
    "\n",
    "# Run the benchmark\n",
    "execution_time = timeit.timeit(run_benchmark, number=1)\n",
    "print(f\"Execution time: {execution_time:.2f} seconds\")\n"
   ]
  },
  {
   "cell_type": "code",
   "execution_count": null,
   "metadata": {},
   "outputs": [],
   "source": []
  }
 ],
 "metadata": {
  "kernelspec": {
   "display_name": "base",
   "language": "python",
   "name": "python3"
  },
  "language_info": {
   "codemirror_mode": {
    "name": "ipython",
    "version": 3
   },
   "file_extension": ".py",
   "mimetype": "text/x-python",
   "name": "python",
   "nbconvert_exporter": "python",
   "pygments_lexer": "ipython3",
   "version": "3.11.7"
  }
 },
 "nbformat": 4,
 "nbformat_minor": 2
}
