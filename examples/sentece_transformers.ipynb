{
 "cells": [
  {
   "cell_type": "markdown",
   "source": [
    "## General batching"
   ],
   "metadata": {
    "collapsed": false
   }
  },
  {
   "cell_type": "markdown",
   "source": [
    "### Sentence Transformers"
   ],
   "metadata": {
    "collapsed": false
   }
  },
  {
   "cell_type": "code",
   "outputs": [
    {
     "data": {
      "text/plain": "array([ 0.3059689 ,  0.79072964,  0.00980721, ...,  0.0644002 ,\n       -0.45898244, -0.01831866], dtype=float32)"
     },
     "execution_count": 11,
     "metadata": {},
     "output_type": "execute_result"
    }
   ],
   "source": [
    "from sentence_transformers import SentenceTransformer\n",
    "from concurrent.futures import ThreadPoolExecutor\n",
    "\n",
    "# Load your model\n",
    "model = SentenceTransformer(\"mixedbread-ai/mxbai-embed-large-v1\")\n",
    "model.encode(\"Hello, world!\")"
   ],
   "metadata": {
    "ExecuteTime": {
     "end_time": "2024-08-21T09:51:37.294731Z",
     "start_time": "2024-08-21T09:51:34.633600Z"
    }
   },
   "execution_count": 11
  },
  {
   "cell_type": "code",
   "execution_count": 12,
   "metadata": {
    "ExecuteTime": {
     "end_time": "2024-08-21T09:51:39.992126Z",
     "start_time": "2024-08-21T09:51:39.989543Z"
    }
   },
   "outputs": [],
   "source": [
    "def simple_encode(text: list[str]):\n",
    "    return model.encode(text)"
   ]
  },
  {
   "cell_type": "code",
   "outputs": [],
   "source": [
    "with ThreadPoolExecutor(max_workers=128) as executor:\n",
    "    futures = [executor.submit(simple_encode, [\"Hello, world!\"]) for _ in range(1000)]\n",
    "    results = [future.result() for future in futures]"
   ],
   "metadata": {
    "collapsed": false,
    "ExecuteTime": {
     "end_time": "2024-08-21T09:52:08.819910Z",
     "start_time": "2024-08-21T09:51:40.841309Z"
    }
   },
   "execution_count": 13
  },
  {
   "cell_type": "code",
   "execution_count": 14,
   "metadata": {
    "collapsed": false,
    "ExecuteTime": {
     "end_time": "2024-08-21T09:52:13.417322Z",
     "start_time": "2024-08-21T09:52:11.572003Z"
    }
   },
   "outputs": [],
   "source": [
    "import batch\n",
    "\n",
    "dynamic_encode = batch.dynamically(simple_encode)\n",
    "\n",
    "with ThreadPoolExecutor(max_workers=128) as executor:\n",
    "    futures = [executor.submit(dynamic_encode, [\"Hello, world!\"]) for _ in range(1000)]\n",
    "    results = [future.result() for future in futures]"
   ]
  },
  {
   "cell_type": "markdown",
   "source": [
    "### Ofen"
   ],
   "metadata": {
    "collapsed": false
   }
  },
  {
   "cell_type": "code",
   "outputs": [
    {
     "name": "stderr",
     "output_type": "stream",
     "text": [
      "/opt/homebrew/anaconda3/lib/python3.11/site-packages/ofen/models/torch/text_encoder.py:144: UserWarning: Pooling strategy is set to NONE. This may result in unexpected behavior as the output will be the full sequence of hidden states rather than a single vector per input. Consider using a different pooling strategy such as mean, max, or cls if you need a fixed-size representation.\n",
      "  warnings.warn(\n"
     ]
    },
    {
     "data": {
      "text/plain": "EncodingResult(embeddings=array([[[ 0.01729077,  0.04468535,  0.00055422, ...,  0.00363935,\n         -0.0259378 , -0.00103522],\n        [-0.00385489,  0.02841953,  0.0072808 , ..., -0.00641318,\n         -0.00887358,  0.0145831 ],\n        [ 0.02255955,  0.03204089,  0.01209312, ...,  0.00168586,\n         -0.03093472,  0.01115614],\n        [-0.01648994,  0.0239604 , -0.01059136, ..., -0.01044504,\n         -0.04768613,  0.02494775],\n        [ 0.00466856,  0.04424845,  0.00212991, ...,  0.01685553,\n         -0.01741113,  0.01215234],\n        [ 0.00623544,  0.03078754,  0.00834455, ...,  0.00311966,\n         -0.0418628 , -0.02152618]]], dtype=float32), total_tokens=6)"
     },
     "execution_count": 15,
     "metadata": {},
     "output_type": "execute_result"
    }
   ],
   "source": [
    "from ofen.models import TextEncoder\n",
    "\n",
    "text_encoder = TextEncoder(\"mixedbread-ai/mxbai-embed-large-v1\")\n",
    "text_encoder.encode(\"Hello, world!\")"
   ],
   "metadata": {
    "collapsed": false,
    "ExecuteTime": {
     "end_time": "2024-08-21T09:52:27.184887Z",
     "start_time": "2024-08-21T09:52:24.122598Z"
    }
   },
   "execution_count": 15
  },
  {
   "cell_type": "code",
   "outputs": [],
   "source": [
    "def simple_encode(text: list[str]):\n",
    "    return text_encoder.encode(text).embeddings\n",
    "\n",
    "with ThreadPoolExecutor(max_workers=128) as executor:\n",
    "    futures = [executor.submit(simple_encode, [\"Hello, world!\"]) for _ in range(1000)]\n",
    "    results = [future.result() for future in futures]"
   ],
   "metadata": {
    "collapsed": false,
    "ExecuteTime": {
     "end_time": "2024-08-21T09:54:57.922537Z",
     "start_time": "2024-08-21T09:54:33.529236Z"
    }
   },
   "execution_count": 19
  },
  {
   "cell_type": "code",
   "outputs": [],
   "source": [
    "import batch\n",
    "\n",
    "dynamic_encode = batch.dynamically(simple_encode)\n",
    "\n",
    "with ThreadPoolExecutor(max_workers=128) as executor:\n",
    "    futures = [executor.submit(dynamic_encode, [\"Hello, world!\"]) for _ in range(1000)]\n",
    "    results = [future.result() for future in futures]"
   ],
   "metadata": {
    "collapsed": false,
    "ExecuteTime": {
     "end_time": "2024-08-21T09:55:01.405759Z",
     "start_time": "2024-08-21T09:54:59.556441Z"
    }
   },
   "execution_count": 20
  },
  {
   "cell_type": "markdown",
   "source": [
    "## Inference batching"
   ],
   "metadata": {
    "collapsed": false
   }
  },
  {
   "cell_type": "code",
   "outputs": [
    {
     "name": "stderr",
     "output_type": "stream",
     "text": [
      "/opt/homebrew/anaconda3/lib/python3.11/site-packages/ofen/models/torch/text_encoder.py:144: UserWarning: Pooling strategy is set to NONE. This may result in unexpected behavior as the output will be the full sequence of hidden states rather than a single vector per input. Consider using a different pooling strategy such as mean, max, or cls if you need a fixed-size representation.\n",
      "  warnings.warn(\n"
     ]
    },
    {
     "data": {
      "text/plain": "EncodingResult(embeddings=array([[[ 0.01729077,  0.04468535,  0.00055422, ...,  0.00363935,\n         -0.0259378 , -0.00103522],\n        [-0.00385489,  0.02841953,  0.0072808 , ..., -0.00641318,\n         -0.00887358,  0.0145831 ],\n        [ 0.02255955,  0.03204089,  0.01209312, ...,  0.00168586,\n         -0.03093472,  0.01115614],\n        [-0.01648994,  0.0239604 , -0.01059136, ..., -0.01044504,\n         -0.04768613,  0.02494775],\n        [ 0.00466856,  0.04424845,  0.00212991, ...,  0.01685553,\n         -0.01741113,  0.01215234],\n        [ 0.00623544,  0.03078754,  0.00834455, ...,  0.00311966,\n         -0.0418628 , -0.02152618]]], dtype=float32), total_tokens=6)"
     },
     "execution_count": 1,
     "metadata": {},
     "output_type": "execute_result"
    }
   ],
   "source": [
    "from ofen.models import TextEncoder\n",
    "\n",
    "text_encoder = TextEncoder(\"mixedbread-ai/mxbai-embed-large-v1\")\n",
    "text_encoder.encode(\"Hello, world!\")"
   ],
   "metadata": {
    "collapsed": false,
    "ExecuteTime": {
     "end_time": "2024-08-21T10:02:36.997197Z",
     "start_time": "2024-08-21T10:02:34.631346Z"
    }
   },
   "execution_count": 1
  },
  {
   "cell_type": "code",
   "execution_count": 2,
   "metadata": {
    "ExecuteTime": {
     "end_time": "2024-08-21T10:02:39.757417Z",
     "start_time": "2024-08-21T10:02:37.952969Z"
    }
   },
   "outputs": [],
   "source": [
    "from batch import inference\n",
    "from concurrent.futures import ThreadPoolExecutor\n",
    "\n",
    "simple_forward = text_encoder.forward\n",
    "\n",
    "dynamic_forward = inference.dynamically(lambda features: simple_forward(**features)[\"embeddings\"])\n",
    "text_encoder.forward = lambda **features: {\"embeddings\": dynamic_forward(features)}\n",
    "\n",
    "with ThreadPoolExecutor(max_workers=128) as executor:\n",
    "    futures = [executor.submit(text_encoder.encode, [\"Hello, world!\"]) for _ in range(1000)]\n",
    "    results = [future.result() for future in futures]"
   ]
  },
  {
   "cell_type": "code",
   "execution_count": null,
   "metadata": {},
   "outputs": [],
   "source": []
  }
 ],
 "metadata": {
  "kernelspec": {
   "display_name": "base",
   "language": "python",
   "name": "python3"
  },
  "language_info": {
   "codemirror_mode": {
    "name": "ipython",
    "version": 3
   },
   "file_extension": ".py",
   "mimetype": "text/x-python",
   "name": "python",
   "nbconvert_exporter": "python",
   "pygments_lexer": "ipython3",
   "version": "3.11.7"
  }
 },
 "nbformat": 4,
 "nbformat_minor": 2
}
